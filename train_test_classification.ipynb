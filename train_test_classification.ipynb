{
  "nbformat": 4,
  "nbformat_minor": 0,
  "metadata": {
    "colab": {
      "provenance": [],
      "authorship_tag": "ABX9TyPPLhEOBqpC87/O8Ug6utit",
      "include_colab_link": true
    },
    "kernelspec": {
      "name": "python3",
      "display_name": "Python 3"
    },
    "language_info": {
      "name": "python"
    }
  },
  "cells": [
    {
      "cell_type": "markdown",
      "metadata": {
        "id": "view-in-github",
        "colab_type": "text"
      },
      "source": [
        "<a href=\"https://colab.research.google.com/github/softwarerbfl/TABA_AI_Project/blob/main/train_test_classification.ipynb\" target=\"_parent\"><img src=\"https://colab.research.google.com/assets/colab-badge.svg\" alt=\"Open In Colab\"/></a>"
      ]
    },
    {
      "cell_type": "markdown",
      "source": [
        "# train 데이터셋이랑 test데이터셋 나누어 넣는 코드"
      ],
      "metadata": {
        "id": "JoV4HAXOV8oN"
      }
    },
    {
      "cell_type": "code",
      "execution_count": 1,
      "metadata": {
        "id": "9iglRqKh1T3J"
      },
      "outputs": [],
      "source": [
        "import numpy as np\n",
        "import pandas as pd\n",
        "import os\n",
        "from PIL import Image\n",
        "import matplotlib.pyplot as plt\n",
        "from google.colab.patches import cv2_imshow\n",
        "import cv2\n",
        "import base64\n",
        "import zipfile\n",
        "import imageio\n",
        "import torch\n",
        "import h5py\n",
        "from google.colab import drive\n",
        "import torchvision\n",
        "from torch.utils.data import DataLoader, Dataset\n",
        "from torchvision import transforms\n",
        "from torch.autograd import Variable\n",
        "from torch import optim\n",
        "import torch.nn as nn\n",
        "import torch.nn.functional as F\n",
        "device = torch.device('cuda:0' if torch.cuda.is_available() else 'cpu')"
      ]
    },
    {
      "cell_type": "code",
      "source": [
        "drive.mount('/content/gdrive')"
      ],
      "metadata": {
        "id": "TUmIjFJoWInL",
        "colab": {
          "base_uri": "https://localhost:8080/"
        },
        "outputId": "f1e036a9-7b86-4fd8-8a43-52f93dbb4f09"
      },
      "execution_count": 2,
      "outputs": [
        {
          "output_type": "stream",
          "name": "stdout",
          "text": [
            "Mounted at /content/gdrive\n"
          ]
        }
      ]
    },
    {
      "cell_type": "code",
      "source": [
        "#저작권 이미지 경로\n",
        "cpImage_path=\"/content/gdrive/My Drive/TABA_AI/Image/copyrighted/copyrightedImage_\"\n",
        "#비저작권 이미지 경로\n",
        "noncpImage_path=\"/content/gdrive/My Drive/TABA_AI/Image/noncopyrighted/ILSVRC2010_val_\""
      ],
      "metadata": {
        "id": "ThBgxP6qWLZO"
      },
      "execution_count": 3,
      "outputs": []
    },
    {
      "cell_type": "markdown",
      "source": [
        "**train데이터셋 모으기**"
      ],
      "metadata": {
        "id": "G6nmFQyOWN0E"
      }
    },
    {
      "cell_type": "code",
      "source": [
        "train_cp_path=\"/content/gdrive/My Drive/TABA_AI/Image/Folder/train/cp/\"\n",
        "train_noncp_path=\"/content/gdrive/My Drive/TABA_AI/Image/Folder/train/noncp/\""
      ],
      "metadata": {
        "id": "6G7yG3uoWLtj"
      },
      "execution_count": 6,
      "outputs": []
    },
    {
      "cell_type": "code",
      "source": [
        "#저작권 이미지 8000개 옮기기\n",
        "for i in range(4000,8000):\n",
        "  num='{0:08d}'.format(i)\n",
        "  img_path=cpImage_path+str(num)+\".JPEG\"\n",
        "  img=Image.open(img_path)\n",
        "  img.save(train_cp_path+\"copyrightedImage_\"+str(num)+'.JPEG')\n",
        "#비저작권 이미지 8000개 옮기기\n",
        "for i in range(4001,8001):\n",
        "  num='{0:08d}'.format(i)\n",
        "  img_path=noncpImage_path+str(num)+'.JPEG'\n",
        "  img=Image.open(img_path)\n",
        "  img.save(train_noncp_path+\"noncopyrightedImage_\"+str(num)+\".JPEG\")"
      ],
      "metadata": {
        "id": "Btjyw2kWWLa-"
      },
      "execution_count": 7,
      "outputs": []
    },
    {
      "cell_type": "markdown",
      "source": [
        "**test데이터셋 모으기**"
      ],
      "metadata": {
        "id": "TgRI6fbwWSil"
      }
    },
    {
      "cell_type": "code",
      "source": [
        "test_cp_path=\"/content/gdrive/My Drive/TABA_AI/Image/Folder/test/cp/\"\n",
        "test_noncp_path=\"/content/gdrive/My Drive/TABA_AI/Image/Folder/test/noncp/\""
      ],
      "metadata": {
        "id": "gj-MDI0mWRrO"
      },
      "execution_count": 8,
      "outputs": []
    },
    {
      "cell_type": "code",
      "source": [
        "#저작권 이미지 2000개 옮기기\n",
        "for i in range(8000,10000):\n",
        "  num='{0:08d}'.format(i)\n",
        "  img_path=cpImage_path+str(num)+\".JPEG\"\n",
        "  img=Image.open(img_path)\n",
        "  img.save(test_cp_path+\"copyrightedImage_\"+str(num)+'.JPEG')\n",
        "#비저작권 이미지 2000개 옮기기\n",
        "for i in range(8001,10001):\n",
        "  num='{0:08d}'.format(i)\n",
        "  img_path=noncpImage_path+str(num)+'.JPEG'\n",
        "  img=Image.open(img_path)\n",
        "  img.save(test_noncp_path+\"noncopyrightedImage_\"+str(num)+\".JPEG\")"
      ],
      "metadata": {
        "id": "RFM3RjRAWWDt"
      },
      "execution_count": 9,
      "outputs": []
    }
  ]
}