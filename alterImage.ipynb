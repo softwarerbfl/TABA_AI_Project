{
  "nbformat": 4,
  "nbformat_minor": 0,
  "metadata": {
    "colab": {
      "provenance": [],
      "authorship_tag": "ABX9TyMr6VH18cybZbvB7r3WvdjU",
      "include_colab_link": true
    },
    "kernelspec": {
      "name": "python3",
      "display_name": "Python 3"
    },
    "language_info": {
      "name": "python"
    }
  },
  "cells": [
    {
      "cell_type": "markdown",
      "metadata": {
        "id": "view-in-github",
        "colab_type": "text"
      },
      "source": [
        "<a href=\"https://colab.research.google.com/github/softwarerbfl/TABA_AI_Project/blob/main/alterImage.ipynb\" target=\"_parent\"><img src=\"https://colab.research.google.com/assets/colab-badge.svg\" alt=\"Open In Colab\"/></a>"
      ]
    },
    {
      "cell_type": "markdown",
      "source": [
        "# hdf5 이미지 jpeg으로 저장하는 코드"
      ],
      "metadata": {
        "id": "3dGmuZNozOYU"
      }
    },
    {
      "cell_type": "code",
      "execution_count": 1,
      "metadata": {
        "id": "1QMEZhCIrHY3"
      },
      "outputs": [],
      "source": [
        "import numpy as np\n",
        "import pandas as pd\n",
        "import os\n",
        "from PIL import Image\n",
        "import matplotlib.pyplot as plt\n",
        "from google.colab.patches import cv2_imshow\n",
        "import cv2\n",
        "import base64\n",
        "import zipfile\n",
        "import imageio\n",
        "import torch\n",
        "import h5py\n",
        "from google.colab import drive\n",
        "import torchvision\n",
        "from torch.utils.data import DataLoader, Dataset\n",
        "from torchvision import transforms\n",
        "from torch.autograd import Variable\n",
        "from torch import optim\n",
        "import torch.nn as nn\n",
        "import torch.nn.functional as F\n",
        "device = torch.device('cuda:0' if torch.cuda.is_available() else 'cpu')"
      ]
    },
    {
      "cell_type": "code",
      "source": [
        "drive.mount('/content/gdrive')"
      ],
      "metadata": {
        "colab": {
          "base_uri": "https://localhost:8080/"
        },
        "id": "brhUMLlArQ79",
        "outputId": "d5563a6a-99c3-400f-dc5a-c7cd0ec3c1d1"
      },
      "execution_count": 2,
      "outputs": [
        {
          "output_type": "stream",
          "name": "stdout",
          "text": [
            "Mounted at /content/gdrive\n"
          ]
        }
      ]
    },
    {
      "cell_type": "code",
      "source": [
        "file_path=\"/content/gdrive/My Drive/TABA_AI/test_10k.hdf5\""
      ],
      "metadata": {
        "id": "R1B4ueGCrSm0"
      },
      "execution_count": 3,
      "outputs": []
    },
    {
      "cell_type": "code",
      "source": [
        "file=h5py.File(file_path)"
      ],
      "metadata": {
        "id": "X4OMT_PZrTku"
      },
      "execution_count": 4,
      "outputs": []
    },
    {
      "cell_type": "code",
      "source": [
        "group=file['images']"
      ],
      "metadata": {
        "id": "nbZPy0iqrUH3"
      },
      "execution_count": 5,
      "outputs": []
    },
    {
      "cell_type": "code",
      "source": [
        "for i in range(100):\n",
        "  img=Image.fromarray(np.array(group[str(i+1)]))\n",
        "  num='{0:08d}'.format(i)\n",
        "  img_path='/content/gdrive/My Drive/TABA_AI/Image/copyrighted/copyrightedImage_'+str(num)+'.JPEG'\n",
        "  img.save(img_path)"
      ],
      "metadata": {
        "id": "szFDLYmprXwN"
      },
      "execution_count": 12,
      "outputs": []
    }
  ]
}