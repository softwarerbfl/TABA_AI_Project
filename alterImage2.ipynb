{
  "nbformat": 4,
  "nbformat_minor": 0,
  "metadata": {
    "colab": {
      "provenance": [],
      "authorship_tag": "ABX9TyOSRSx0UOrUNM/vriW1vsZV",
      "include_colab_link": true
    },
    "kernelspec": {
      "name": "python3",
      "display_name": "Python 3"
    },
    "language_info": {
      "name": "python"
    }
  },
  "cells": [
    {
      "cell_type": "markdown",
      "metadata": {
        "id": "view-in-github",
        "colab_type": "text"
      },
      "source": [
        "<a href=\"https://colab.research.google.com/github/softwarerbfl/TABA_AI_Project/blob/main/alterImage2.ipynb\" target=\"_parent\"><img src=\"https://colab.research.google.com/assets/colab-badge.svg\" alt=\"Open In Colab\"/></a>"
      ]
    },
    {
      "cell_type": "markdown",
      "source": [
        "# 비저작권 이미지의 shape 변경 (256 * 256 * 3)하여 저장 "
      ],
      "metadata": {
        "id": "CdJlFTec1LFO"
      }
    },
    {
      "cell_type": "code",
      "execution_count": 1,
      "metadata": {
        "id": "LKah0vDx1JRo"
      },
      "outputs": [],
      "source": [
        "import numpy as np\n",
        "import pandas as pd\n",
        "import os\n",
        "from PIL import Image\n",
        "import matplotlib.pyplot as plt\n",
        "from google.colab.patches import cv2_imshow\n",
        "import cv2\n",
        "import base64\n",
        "import zipfile\n",
        "import imageio\n",
        "import torch\n",
        "import h5py\n",
        "from google.colab import drive\n",
        "import torchvision\n",
        "from torch.utils.data import DataLoader, Dataset\n",
        "from torchvision import transforms\n",
        "from torch.autograd import Variable\n",
        "from torch import optim\n",
        "import torch.nn as nn\n",
        "import torch.nn.functional as F\n",
        "device = torch.device('cuda:0' if torch.cuda.is_available() else 'cpu')"
      ]
    },
    {
      "cell_type": "code",
      "source": [
        "drive.mount('/content/gdrive')"
      ],
      "metadata": {
        "colab": {
          "base_uri": "https://localhost:8080/"
        },
        "id": "4GtnLNAc1Ufd",
        "outputId": "82967ffe-9676-46a4-9f89-04baacc69daf"
      },
      "execution_count": 2,
      "outputs": [
        {
          "output_type": "stream",
          "name": "stdout",
          "text": [
            "Mounted at /content/gdrive\n"
          ]
        }
      ]
    },
    {
      "cell_type": "code",
      "source": [
        "from torchvision.datasets import ImageFolder\n",
        "import torch.utils.data as data\n",
        "\n",
        "origin_file_path=\"/content/gdrive/My Drive/TABA_AI/ILSVR2010_image_/val/\"\n",
        "new_file_path=\"/content/gdrive/My Drive/TABA_AI/Image/noncopyrighted/\""
      ],
      "metadata": {
        "id": "HozlzaqR1Vz8"
      },
      "execution_count": 4,
      "outputs": []
    },
    {
      "cell_type": "code",
      "source": [
        "for img_idx in range(1,101):\n",
        "  num='{0:08d}'.format(img_idx)\n",
        "  #기존 이미지 파일\n",
        "  img_path=origin_file_path+'ILSVRC2010_val_'+str(num)+'.JPEG'\n",
        "  img=Image.open(img_path)\n",
        "  img=np.array(img)\n",
        "  img=cv2.resize(img,(256,256),cv2.INTER_AREA)\n",
        "  img=Image.fromarray(img)\n",
        "  #새 이미지 파일\n",
        "  img.save(new_file_path+'ILSVRC2010_val_'+str(num)+'.JPEG')"
      ],
      "metadata": {
        "id": "QFIUwfPI1kPx"
      },
      "execution_count": 6,
      "outputs": []
    }
  ]
}